{
 "cells": [
  {
   "cell_type": "code",
   "execution_count": null,
   "id": "a369ac73",
   "metadata": {},
   "outputs": [],
   "source": [
    "import numpy as np"
   ]
  },
  {
   "cell_type": "code",
   "execution_count": null,
   "id": "b1228b72",
   "metadata": {},
   "outputs": [],
   "source": [
    "def make_sparse_weights(rows, cols):\n",
    "    W = np.random.randn(rows, cols)\n",
    "    mask = (np.random.randn((rows * cols) // 2) >= 0).astype(np.uint8)\n",
    "    sparsity_mask = np.eye(2)[mask, :].reshape(rows, cols)\n",
    "    return W*sparsity_mask, sparsity_mask"
   ]
  },
  {
   "cell_type": "code",
   "execution_count": null,
   "id": "225f631d",
   "metadata": {},
   "outputs": [],
   "source": [
    "np.set_printoptions(precision=3)"
   ]
  },
  {
   "cell_type": "code",
   "execution_count": null,
   "id": "aff9fe27",
   "metadata": {},
   "outputs": [],
   "source": [
    "rows = 16\n",
    "cols = 8\n",
    "W, sparsity_mask = make_sparse_weights(rows, cols)\n",
    "W, sparsity_mask"
   ]
  },
  {
   "cell_type": "code",
   "execution_count": null,
   "id": "e6e0a128",
   "metadata": {},
   "outputs": [],
   "source": [
    "x = np.random.randn(cols, 1)\n",
    "x"
   ]
  },
  {
   "cell_type": "code",
   "execution_count": null,
   "id": "98a0f6b7",
   "metadata": {},
   "outputs": [],
   "source": [
    "a = W @ x\n",
    "a"
   ]
  },
  {
   "cell_type": "markdown",
   "id": "07c00180",
   "metadata": {},
   "source": [
    "Reordering computation to not need to store the zero weights. Only V and sparsity_mask would need to be stored as part of the model."
   ]
  },
  {
   "cell_type": "code",
   "execution_count": null,
   "id": "35a07e9a",
   "metadata": {},
   "outputs": [],
   "source": [
    "# Non-zero entries of W:\n",
    "V = W[sparsity_mask.astype(bool)].reshape(rows, cols // 2)\n",
    "V"
   ]
  },
  {
   "cell_type": "code",
   "execution_count": null,
   "id": "d3aebcc6",
   "metadata": {},
   "outputs": [],
   "source": [
    "# Broadcast and do elementwise multiplication:\n",
    "P = V[np.newaxis, ...]*x.reshape(cols// 2, 2).T[:, np.newaxis, :]\n",
    "P.shape"
   ]
  },
  {
   "cell_type": "code",
   "execution_count": null,
   "id": "6ae8ac33",
   "metadata": {},
   "outputs": [],
   "source": [
    "# sparsity_mask tells us which of the two channels we want to keep:\n",
    "Q = P * sparsity_mask.reshape(-1, 2).T.reshape(2, rows, cols // 2)\n",
    "Q"
   ]
  },
  {
   "cell_type": "code",
   "execution_count": null,
   "id": "2f279e2c",
   "metadata": {},
   "outputs": [],
   "source": [
    "# summing gives the desired output\n",
    "b = np.sum(Q, axis=(0, 2))\n",
    "a.flatten(), b"
   ]
  },
  {
   "cell_type": "code",
   "execution_count": null,
   "id": "fdb7ae3d",
   "metadata": {},
   "outputs": [],
   "source": []
  }
 ],
 "metadata": {
  "kernelspec": {
   "display_name": "Python 3 (ipykernel)",
   "language": "python",
   "name": "python3"
  },
  "language_info": {
   "codemirror_mode": {
    "name": "ipython",
    "version": 3
   },
   "file_extension": ".py",
   "mimetype": "text/x-python",
   "name": "python",
   "nbconvert_exporter": "python",
   "pygments_lexer": "ipython3",
   "version": "3.7.4"
  }
 },
 "nbformat": 4,
 "nbformat_minor": 5
}
